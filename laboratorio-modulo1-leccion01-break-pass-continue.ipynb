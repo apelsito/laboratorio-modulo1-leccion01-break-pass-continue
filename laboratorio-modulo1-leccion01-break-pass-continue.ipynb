{
 "cells": [
  {
   "cell_type": "markdown",
   "metadata": {},
   "source": [
    "\n",
    "<div style=\"text-align: center;\">\n",
    "  <img src=\"https://github.com/Hack-io-Data/Imagenes/blob/main/01-LogosHackio/logo_celeste@4x.png?raw=true\" alt=\"esquema\" />\n",
    "</div>\n"
   ]
  },
  {
   "cell_type": "markdown",
   "metadata": {},
   "source": [
    "# Laboratorio de Python: break(), pass(), continue()"
   ]
  },
  {
   "cell_type": "markdown",
   "metadata": {},
   "source": [
    "## Ejercicio 1: Validación de datos numéricos. \n",
    "\n",
    "Escribe un bucle que lea una lista de números y detenga la ejecución si encuentra un valor negativo. Muestra un mensaje indicando el número negativo encontrado.\n"
   ]
  },
  {
   "cell_type": "code",
   "execution_count": 3,
   "metadata": {},
   "outputs": [
    {
     "name": "stdout",
     "output_type": "stream",
     "text": [
      "1\n",
      "2\n",
      "3\n",
      "4\n",
      "5\n",
      "6\n",
      "He encontrado un número negativo, es el -5, no voy a continuar\n"
     ]
    }
   ],
   "source": [
    "numeros = [1,2,3,4,5,6,-5,12,14,16]\n",
    "\n",
    "for num in numeros:\n",
    "    if num > 0:\n",
    "        print(num)\n",
    "    else: \n",
    "        print(f\"He encontrado un número negativo, es el {num}, no voy a continuar\") \n",
    "        break"
   ]
  },
  {
   "cell_type": "markdown",
   "metadata": {},
   "source": [
    "\n",
    "## Ejercicio 2: Filtrado de datos\n",
    "\n",
    "Escribe un bucle que imprima los números de una lista, pero que omita los números pares.\n"
   ]
  },
  {
   "cell_type": "code",
   "execution_count": 4,
   "metadata": {},
   "outputs": [
    {
     "name": "stdout",
     "output_type": "stream",
     "text": [
      "1\n",
      "3\n",
      "5\n",
      "7\n",
      "9\n",
      "11\n",
      "13\n",
      "15\n"
     ]
    }
   ],
   "source": [
    "nums = [1,2,3,4,5,6,7,8,9,10,11,12,13,14,15,16]\n",
    "for num in nums:\n",
    "    if num % 2 == 0:\n",
    "        continue\n",
    "    else:\n",
    "        print(num)"
   ]
  },
  {
   "cell_type": "markdown",
   "metadata": {},
   "source": [
    "## Ejercicio 3: Búsqueda de un valor\n",
    "\n",
    "Escribe un programa que busque un valor específico en una lista y detenga la búsqueda cuando lo encuentre. Si se encuentra, muestra un mensaje.\n"
   ]
  },
  {
   "cell_type": "code",
   "execution_count": 12,
   "metadata": {},
   "outputs": [
    {
     "name": "stdout",
     "output_type": "stream",
     "text": [
      "Lo encontre! en la posicion 2\n"
     ]
    }
   ],
   "source": [
    "valor = [1,2,3,4,5,6,7,8,9,10,11,12]\n",
    "buscando = 3\n",
    "i = 0\n",
    "while i < len(valor):\n",
    "    if valor[i] == buscando:\n",
    "        print(f\"Lo encontre! en la posicion {i}\")\n",
    "        break\n",
    "    else:\n",
    "        i += 1\n",
    "if i >= len(valor):\n",
    "    print(\"No lo encontré\")\n",
    "        "
   ]
  },
  {
   "cell_type": "markdown",
   "metadata": {},
   "source": [
    "## Ejercicio 4: Estructura de código incompleto\n",
    "\n",
    "Define una función que aún no tenga lógica implementada, pero que se pueda ejecutar sin errores utilizando `pass`."
   ]
  },
  {
   "cell_type": "code",
   "execution_count": 17,
   "metadata": {},
   "outputs": [],
   "source": [
    "def nose(cosas):\n",
    "   try:\n",
    "        if int(cosas) > 3:\n",
    "            pass\n",
    "        else:\n",
    "            pass\n",
    "   except:\n",
    "        pass\n",
    "\n",
    "nose(\"Ya ves\")\n"
   ]
  },
  {
   "cell_type": "markdown",
   "metadata": {},
   "source": [
    "## Ejercicio 5: Validación condicional\n",
    "\n",
    "Escribe un bucle que verifique una lista de nombres. Si encuentra un nombre vacío (cadena vacía), salta esa iteración y continúa con los demás nombres.\n"
   ]
  },
  {
   "cell_type": "code",
   "execution_count": 18,
   "metadata": {},
   "outputs": [
    {
     "name": "stdout",
     "output_type": "stream",
     "text": [
      "Saltamos la iteración,pero seguimos\n",
      "['Manuel', 'José', 'Jorge', 'Federico', 'Jose Luis']\n"
     ]
    }
   ],
   "source": [
    "nombres = [\"Manuel\",\"José\",\"Jorge\",\"\",\"Federico\",\"Jose Luis\"]\n",
    "nombres_new = []\n",
    "for name in nombres:\n",
    "    if len(name) == 0:\n",
    "        print(f\"Saltamos la iteración porque está vacía,pero seguimos\")\n",
    "        continue\n",
    "    else:\n",
    "        nombres_new.append(name)\n",
    "print(nombres_new)\n"
   ]
  },
  {
   "cell_type": "markdown",
   "metadata": {},
   "source": [
    "## Ejercicio 6: Búsqueda de claves en un diccionario\n",
    "\n",
    "Escribe un programa que recorra un diccionario y detenga la búsqueda si encuentra una clave específica pasada por el usuario.\n"
   ]
  },
  {
   "cell_type": "code",
   "execution_count": 22,
   "metadata": {},
   "outputs": [],
   "source": [
    "cosinchis = {\n",
    "    \"nombre\" : \"Manuel\",\n",
    "    \"edad\" : 12,\n",
    "    \"radio\" : \"Maria\"\n",
    "}\n",
    "busco = input(\"Dime que buscas: \")\n",
    "for cosas in cosinchis:\n",
    "    if cosas == busco:\n",
    "        print(f\"Lo encontramos\")\n",
    "        break\n",
    "    else:\n",
    "        continue\n",
    "\n"
   ]
  },
  {
   "cell_type": "markdown",
   "metadata": {},
   "source": [
    "## Ejercicio 7: Bucle con múltiples excepciones\n",
    "\n",
    "Escribe un bucle que procese una lista de operaciones matemáticas, omitiendo las operaciones que intenten dividir por cero.\n"
   ]
  },
  {
   "cell_type": "code",
   "execution_count": 24,
   "metadata": {},
   "outputs": [
    {
     "name": "stdout",
     "output_type": "stream",
     "text": [
      "Saltamos\n",
      "Saltamos\n",
      "Saltamos\n",
      "Saltamos\n",
      "[0.14285714285714285, 0.25, 0.3333333333333333, 0.75]\n"
     ]
    }
   ],
   "source": [
    "operaciones1 = [1,2,3,4,0,5,9,6]\n",
    "operaciones2 = [7,8,9,0,0,0,0,8]\n",
    "ops3 = []\n",
    "i = 0\n",
    "for oper in operaciones1:\n",
    "    if operaciones2[i] == 0:\n",
    "        i += 1\n",
    "        print(\"Saltamos\")\n",
    "        continue\n",
    "    else:\n",
    "        total = oper / operaciones2[i]\n",
    "\n",
    "        ops3.append(total)\n",
    "        i+=1\n",
    "    \n",
    "print(ops3)"
   ]
  },
  {
   "cell_type": "markdown",
   "metadata": {},
   "source": [
    "## Ejercicio 8: Búsqueda en una lista anidada\n",
    "\n",
    "Escribe un programa que recorra una lista de listas y detenga la búsqueda cuando encuentre un valor mayor a 50.\n"
   ]
  },
  {
   "cell_type": "code",
   "execution_count": 39,
   "metadata": {},
   "outputs": [
    {
     "name": "stdout",
     "output_type": "stream",
     "text": [
      "Valor mayor o igual a 50 encontrado!, Paramos\n"
     ]
    }
   ],
   "source": [
    "ldel = [[1, 2, 30], [32, 33, 43], [37, 39, 30], [42, 50, 27], [22, 34, 56]]\n",
    "\n",
    "for l in ldel:\n",
    "    for n in l:\n",
    "        if n >= 50:\n",
    "            print(\"Valor mayor o igual a 50 encontrado!, Paramos\")\n",
    "            break \n",
    "    else:\n",
    "        continue\n",
    "    break\n"
   ]
  },
  {
   "cell_type": "markdown",
   "metadata": {},
   "source": [
    "## Ejercicio 9: Evaluación de series temporales\n",
    "\n",
    "Escribe un programa que recorra una lista de datos de series temporales y se detenga si encuentra un valor atípico (mayor a 100).\n"
   ]
  },
  {
   "cell_type": "code",
   "execution_count": 43,
   "metadata": {},
   "outputs": [
    {
     "name": "stdout",
     "output_type": "stream",
     "text": [
      "llegamos\n"
     ]
    }
   ],
   "source": [
    "arr = [x*2 for x in range(100)] #Te evitas el append (haces 100 elementos en sucesiones de 2)\n",
    "\n",
    "for a in arr: \n",
    "    if a >= 100:\n",
    "        print(\"llegamos\")\n",
    "        break\n",
    "    else: \n",
    "        continue"
   ]
  },
  {
   "cell_type": "markdown",
   "metadata": {},
   "source": [
    "## Ejercicio 10: Iteración con valores faltantes\n",
    "\n",
    "Crea un bucle que recorra una lista de datos de ventas y salte los valores faltantes representados por `None`."
   ]
  },
  {
   "cell_type": "code",
   "execution_count": 44,
   "metadata": {},
   "outputs": [
    {
     "name": "stdout",
     "output_type": "stream",
     "text": [
      "1\n",
      "100\n",
      "120\n",
      "300\n",
      "450\n",
      "235\n",
      "674\n",
      "892\n"
     ]
    }
   ],
   "source": [
    "buc = [1,100,120,300,450,None,235,674,892,None,]\n",
    "\n",
    "for b in buc:\n",
    "    if b != None:\n",
    "        print(b)"
   ]
  },
  {
   "cell_type": "markdown",
   "metadata": {},
   "source": [
    "## Ejercicio 11: Control de flujo en bucles anidados\n",
    "\n",
    "Escribe un bucle que recorra la matriz dada y se detenga si se encuentra un número negativo, mostrando su posición.\n",
    "\n"
   ]
  },
  {
   "cell_type": "code",
   "execution_count": 58,
   "metadata": {},
   "outputs": [
    {
     "name": "stdout",
     "output_type": "stream",
     "text": [
      "Encontré el siguiente número negativo -1 que está en la posición 0 en la sublista y en la posición 2 de la lista\n"
     ]
    }
   ],
   "source": [
    "matriz = [[1,2,3],[4,5,6],[-1,3,5]]\n",
    "for mat in matriz:\n",
    "    for n in mat:\n",
    "        if n < 0:\n",
    "            indice = mat.index(n)\n",
    "            indice2 = matriz.index(mat)\n",
    "            print(f\"Encontré el siguiente número negativo {n} que está en la posición {indice} en la sublista y en la posición {indice2} de la lista\")\n",
    "            break\n",
    "        else:\n",
    "            continue\n",
    "        \n",
    "        \n"
   ]
  },
  {
   "cell_type": "markdown",
   "metadata": {},
   "source": [
    "## Ejercicio 12: Placeholder para funciones incompletas\n",
    "\n",
    "Escribe una función que tenga un bloque de control que aún no esté implementado, utilizando `pass` para que no genere errores."
   ]
  },
  {
   "cell_type": "code",
   "execution_count": 62,
   "metadata": {},
   "outputs": [
    {
     "name": "stdout",
     "output_type": "stream",
     "text": [
      "50\n",
      "110\n",
      "110\n"
     ]
    }
   ],
   "source": [
    "def contar(numeros):\n",
    "    suma = 0\n",
    "    for n in numeros: \n",
    "        if n < 50:\n",
    "            pass\n",
    "        else:\n",
    "            suma += n\n",
    "            \n",
    "        print(suma)\n",
    "\n",
    "contar([50,60,30])\n",
    "\n"
   ]
  },
  {
   "cell_type": "code",
   "execution_count": null,
   "metadata": {},
   "outputs": [],
   "source": []
  }
 ],
 "metadata": {
  "kernelspec": {
   "display_name": "contenido",
   "language": "python",
   "name": "python3"
  },
  "language_info": {
   "codemirror_mode": {
    "name": "ipython",
    "version": 3
   },
   "file_extension": ".py",
   "mimetype": "text/x-python",
   "name": "python",
   "nbconvert_exporter": "python",
   "pygments_lexer": "ipython3",
   "version": "3.11.9"
  }
 },
 "nbformat": 4,
 "nbformat_minor": 2
}
